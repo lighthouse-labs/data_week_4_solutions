{
 "cells": [
  {
   "cell_type": "markdown",
   "metadata": {},
   "source": [
    "## Dimensionality reduction\n",
    "\n",
    "We will test some of the dimensionality reduction techniques on the [UFO dataset](https://drive.google.com/file/d/0B2gZvn36c5CmRTJpS3pkUllmX1U/view?usp=sharing) from the last week."
   ]
  },
  {
   "cell_type": "markdown",
   "metadata": {},
   "source": [
    "\n",
    "\n",
    "\n",
    "### PCA\n",
    "\n",
    "Subset all **weather related** features from the data and run PCA over it. \n",
    "\n",
    "\n",
    "1. Extract the 2 best principal components (k=2). \n",
    "1. Plot the **feature** space into the new space. \n",
    "    - We should create a scatter plot with 1st component on the axis x and second component on y. \n",
    "    - The length of each component is equal to number of columns (features) we have in our data before PCA.\n",
    "    - Points in the graph that are close to each other are similar features. We need to anotate the points with feature names.\n",
    "1. Observe which features have similar meaning and which have opposite.\n",
    "    - Features close to each other have similar meaning.\n",
    "1. Select the optimal number of dimensions to keep - *k* (find the explained variance of each component and use the elbow rule)\n",
    "1. Create a projection of your data into the *k* axes of the trained PCA\n",
    "1. Export the data with the new features. Number of rows should be the same as in the original dataset."
   ]
  },
  {
   "cell_type": "code",
   "execution_count": 20,
   "metadata": {},
   "outputs": [],
   "source": [
    "import pandas as pd\n",
    "import numpy as np\n",
    "data = pd.read_csv(\"/Users/jurajkapasny/Drive/Data/ufo-sightings/UFO_data.csv\", sep=\";\", low_memory=False).set_index(\"Unnamed: 0\")\n"
   ]
  },
  {
   "cell_type": "code",
   "execution_count": 2,
   "metadata": {},
   "outputs": [],
   "source": [
    "weather_feats = ['apparentTemperature', u'cloudCover', u'dewPoint', \n",
    "         u'humidity', u'precipIntensity', u'precipProbability',\n",
    "         u'pressure', u'temperature', u'visibility', u'windBearing', \n",
    "         u'windSpeed']"
   ]
  },
  {
   "cell_type": "code",
   "execution_count": 10,
   "metadata": {},
   "outputs": [
    {
     "data": {
      "text/plain": [
       "PCA(copy=True, iterated_power='auto', n_components=2, random_state=42,\n",
       "    svd_solver='auto', tol=0.0, whiten=False)"
      ]
     },
     "execution_count": 10,
     "metadata": {},
     "output_type": "execute_result"
    }
   ],
   "source": [
    "from sklearn.decomposition import PCA\n",
    "from sklearn.preprocessing import StandardScaler\n",
    "from sklearn.impute import SimpleImputer\n",
    "\n",
    "pca = PCA(n_components=2, random_state=42)\n",
    "pca.fit(StandardScaler()\n",
    "        .fit_transform(SimpleImputer(strategy=\"median\")\n",
    "                       .fit_transform(data[weather_feats])))"
   ]
  },
  {
   "cell_type": "markdown",
   "metadata": {},
   "source": [
    "## 1"
   ]
  },
  {
   "cell_type": "code",
   "execution_count": 14,
   "metadata": {},
   "outputs": [
    {
     "data": {
      "text/plain": [
       "array([[ 0.55591022,  0.03798681,  0.5255704 , -0.00089789,  0.07428468,\n",
       "         0.08842045, -0.29286983,  0.55564588, -0.05324999, -0.0510294 ,\n",
       "        -0.00217674],\n",
       "       [-0.15628258,  0.44995259,  0.08244791,  0.42401918,  0.36346332,\n",
       "         0.46935178, -0.06105423, -0.15752178, -0.43872772, -0.09333451,\n",
       "         0.06631547]])"
      ]
     },
     "execution_count": 14,
     "metadata": {},
     "output_type": "execute_result"
    }
   ],
   "source": [
    "# extracting components\n",
    "pca.components_"
   ]
  },
  {
   "cell_type": "markdown",
   "metadata": {},
   "source": [
    "## 2"
   ]
  },
  {
   "cell_type": "code",
   "execution_count": 8,
   "metadata": {},
   "outputs": [
    {
     "data": {
      "image/png": "[encoded data removed]",
      "text/plain": [
       "<Figure size 432x288 with 1 Axes>"
      ]
     },
     "metadata": {
      "needs_background": "light"
     },
     "output_type": "display_data"
    }
   ],
   "source": [
    "import matplotlib.pyplot as plt\n",
    "%matplotlib inline\n",
    "\n",
    "fig = plt.figure()\n",
    "ax = fig.add_subplot(111)\n",
    "plt.scatter(pca.components_[0], pca.components_[1])\n",
    "plt.xlim(-1,1)\n",
    "plt.ylim(-1,1)\n",
    "\n",
    "ind = 0\n",
    "for i,j in zip(pca.components_[0],\n",
    "               pca.components_[1]):\n",
    "    ax.annotate(weather_feats[ind], xy=(i,j), xytext=(8,0), textcoords='offset points')\n",
    "    ind += 1\n",
    "plt.show()"
   ]
  },
  {
   "cell_type": "markdown",
   "metadata": {},
   "source": [
    "## 3\n",
    "- similar meaning: [windSpeed, pressure, windBearing], [apparentTemperature, temperature], [precipIntensity, precipProbability]\n",
    "- opposite meaning: [visibility, precipIntensity], [visibility, dewPoint]..."
   ]
  },
  {
   "cell_type": "markdown",
   "metadata": {},
   "source": [
    "## 4\n",
    "Plot the number of components vs. explained variance"
   ]
  },
  {
   "cell_type": "code",
   "execution_count": 33,
   "metadata": {},
   "outputs": [
    {
     "data": {
      "text/plain": [
       "PCA(copy=True, iterated_power='auto', n_components=11, random_state=42,\n",
       "    svd_solver='auto', tol=0.0, whiten=False)"
      ]
     },
     "execution_count": 33,
     "metadata": {},
     "output_type": "execute_result"
    }
   ],
   "source": [
    "# PCA with number of componenets equal to number of features\n",
    "pca = PCA(n_components=len(weather_feats), random_state=42)\n",
    "pca.fit(StandardScaler()\n",
    "        .fit_transform(SimpleImputer(strategy=\"median\")\n",
    "                       .fit_transform(data[weather_feats])))"
   ]
  },
  {
   "cell_type": "code",
   "execution_count": 34,
   "metadata": {},
   "outputs": [
    {
     "name": "stdout",
     "output_type": "stream",
     "text": [
      "[0.2692969  0.19953907 0.12932692 0.10499692 0.08519328 0.06178766\n",
      " 0.05788439 0.05274546 0.0372339  0.00152517 0.00047032]\n",
      "\n",
      "[0.2692969  0.46883597 0.59816289 0.70315981 0.78835309 0.85014075\n",
      " 0.90802514 0.9607706  0.99800451 0.99952968 1.        ]\n"
     ]
    }
   ],
   "source": [
    "# creating cumulative explained variance\n",
    "print(pca.explained_variance_ratio_)\n",
    "print(\"\")\n",
    "print(np.cumsum(pca.explained_variance_ratio_))"
   ]
  },
  {
   "cell_type": "code",
   "execution_count": 36,
   "metadata": {},
   "outputs": [
    {
     "data": {
      "image/png": "[encoded data removed]",
      "text/plain": [
       "<Figure size 432x288 with 1 Axes>"
      ]
     },
     "metadata": {
      "needs_background": "light"
     },
     "output_type": "display_data"
    }
   ],
   "source": [
    "# plotting\n",
    "import matplotlib.pyplot as plt\n",
    "%matplotlib inline\n",
    "\n",
    "x = range(len(pca.explained_variance_ratio_)+1)\n",
    "y = [0]+ list(np.cumsum(pca.explained_variance_ratio_))\n",
    "\n",
    "fig = plt.figure()\n",
    "ax = fig.add_subplot(111)\n",
    "plt.plot(x, y)\n",
    "plt.xlim(0,15)\n",
    "plt.ylim(0,1)\n",
    "\n",
    "plt.show()"
   ]
  },
  {
   "cell_type": "markdown",
   "metadata": {},
   "source": [
    "We don't have a clear elbow here. It could be 2, 4 5 or iven 9. We can use the combination of elbow rule and scatter plot above. There, we can see **4 \"clusters\"** of features if we consider dewPoint and teperature to be in one cluster. Therefore, we can take 4 components as the optimal number."
   ]
  },
  {
   "cell_type": "markdown",
   "metadata": {},
   "source": [
    "## 5"
   ]
  },
  {
   "cell_type": "code",
   "execution_count": 39,
   "metadata": {},
   "outputs": [],
   "source": [
    "pca = PCA(n_components=4, random_state=42)\n",
    "sc = StandardScaler()\n",
    "si = SimpleImputer(strategy=\"median\")\n",
    "si.fit(data[weather_feats])\n",
    "sc.fit(si.transform(data[weather_feats]))\n",
    "# fitting the PCA\n",
    "pca.fit(sc.transform(si.transform(data[weather_feats])))\n",
    "# projection of the data into the 4 axes of the trained PCA\n",
    "pca_data = pca.transform(sc.transform(si.transform(data[weather_feats])))"
   ]
  },
  {
   "cell_type": "code",
   "execution_count": 41,
   "metadata": {},
   "outputs": [],
   "source": [
    "pca_data = pd.DataFrame(pca_data, columns = [\"pca_1\",\"pca_2\",\"pca_3\",\"pca_4\"])"
   ]
  },
  {
   "cell_type": "code",
   "execution_count": 46,
   "metadata": {},
   "outputs": [
    {
     "data": {
      "text/plain": [
       "True"
      ]
     },
     "execution_count": 46,
     "metadata": {},
     "output_type": "execute_result"
    }
   ],
   "source": [
    "pca_data.shape[0] == data.shape[0]"
   ]
  },
  {
   "cell_type": "markdown",
   "metadata": {},
   "source": [
    "## 6"
   ]
  },
  {
   "cell_type": "code",
   "execution_count": 47,
   "metadata": {},
   "outputs": [],
   "source": [
    "pca_data.to_csv(\"./pca_data.csv\",index=False)"
   ]
  }
 ],
 "metadata": {
  "kernelspec": {
   "display_name": "Python 3",
   "language": "python",
   "name": "python3"
  },
  "language_info": {
   "codemirror_mode": {
    "name": "ipython",
    "version": 3
   },
   "file_extension": ".py",
   "mimetype": "text/x-python",
   "name": "python",
   "nbconvert_exporter": "python",
   "pygments_lexer": "ipython3",
   "version": "3.7.6"
  }
 },
 "nbformat": 4,
 "nbformat_minor": 4
}
